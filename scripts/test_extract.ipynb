{
 "cells": [
  {
   "cell_type": "code",
   "execution_count": 1,
   "metadata": {},
   "outputs": [],
   "source": [
    "import pretty_midi\n",
    "from corr_mat import calc_correlation, get_valid_loops\n",
    "from track import Track\n",
    "from util import get_instrument_type, create_loop_dict\n",
    "import os\n",
    "from tqdm import tqdm"
   ]
  },
  {
   "cell_type": "code",
   "execution_count": 2,
   "metadata": {},
   "outputs": [],
   "source": [
    "test_file = \"./test_midi.mid\"\n",
    "pm = pretty_midi.PrettyMIDI(test_file)"
   ]
  },
  {
   "cell_type": "code",
   "execution_count": 3,
   "metadata": {},
   "outputs": [
    {
     "name": "stdout",
     "output_type": "stream",
     "text": [
      "found 1 loops in Instrument(program=0, is_drum=True, name=\"GOT TO HAVE YOUR LOVE     \")\n",
      "0 18.113216000000005 22.641519999999996 (4, 4) 8.0 DRUM 3.875\n",
      "found 1 loops in Instrument(program=39, is_drum=False, name=\"GOT TO HAVE YOUR LOVE     \")\n",
      "1 9.056607999999999 13.584912000000005 (4, 4) 8.0 BASS 2.0\n",
      "found 1 loops in Instrument(program=4, is_drum=False, name=\"GOT TO HAVE YOUR LOVE     \")\n",
      "2 33.96227999999998 43.01888799999996 (4, 4) 16.0 PIANO 0.5625\n",
      "found 1 loops in Instrument(program=48, is_drum=False, name=\"GOT TO HAVE YOUR LOVE     \")\n",
      "3 24.905671999999992 29.433975999999983 (4, 4) 8.0 ENSEMBLE 0.75\n",
      "found 1 loops in Instrument(program=48, is_drum=False, name=\"GOT TO HAVE YOUR LOVE     \")\n",
      "4 24.905671999999992 29.433975999999983 (4, 4) 8.0 ENSEMBLE 0.75\n",
      "found 1 loops in Instrument(program=28, is_drum=False, name=\"GOT TO HAVE YOUR LOVE     \")\n",
      "5 27.169823999999988 31.69812799999998 (4, 4) 8.0 GUITAR 1.75\n",
      "found 0 loops in Instrument(program=2, is_drum=False, name=\"GOT TO HAVE YOUR LOVE     \")\n",
      "found 0 loops in Instrument(program=82, is_drum=False, name=\"GOT TO HAVE YOUR LOVE     \")\n",
      "6 total loops in 8 tracks\n"
     ]
    }
   ],
   "source": [
    "final_loops = []\n",
    "for idx, instrument in enumerate(pm.instruments):\n",
    "    instrument_type = get_instrument_type(instrument)\n",
    "    track = Track(pm, instrument)\n",
    "    note_list = track.notes\n",
    "    lead_mat, lead_dur = calc_correlation(note_list)\n",
    "    loops, loop_endpoints = get_valid_loops(track, lead_mat, lead_dur)\n",
    "    print(f\"found {len(loops)} loops in {instrument}\")\n",
    "\n",
    "    for endpoint in loop_endpoints:\n",
    "        start, end, beats, density = endpoint\n",
    "        time_sig = track.get_time_sig_at_time(start)\n",
    "        print(idx, start, end, time_sig, beats, instrument_type, density)\n",
    "    for loop in loops:\n",
    "        final_loops.append(loop)\n",
    "print(f\"{len(final_loops)} total loops in {len(pm.instruments)} tracks\")"
   ]
  },
  {
   "cell_type": "code",
   "execution_count": 4,
   "metadata": {},
   "outputs": [],
   "source": [
    "def run_file(file_path, name):\n",
    "    try:\n",
    "        pm = pretty_midi.PrettyMIDI(file_path)\n",
    "    except:\n",
    "        print(f\"failed to parse {file_path}, skipping\")\n",
    "        return 0,0,[]\n",
    "    \n",
    "    total_loops = 0\n",
    "    loops = []\n",
    "    for idx, instrument in enumerate(pm.instruments):\n",
    "        instrument_type = get_instrument_type(instrument)\n",
    "        track = Track(pm, instrument)\n",
    "        note_list = track.notes\n",
    "        lead_mat, lead_dur = calc_correlation(note_list)\n",
    "        full_loops, loop_endpoints = get_valid_loops(track, lead_mat, lead_dur)\n",
    "        for endpoint in loop_endpoints:\n",
    "            time_sig = track.get_time_sig_at_time(endpoint[0])\n",
    "            if time_sig is None:\n",
    "                continue\n",
    "            loop_dict = create_loop_dict(endpoint, idx, instrument_type, time_sig, name)\n",
    "            loops.append(loop_dict)\n",
    "        for loop_list in full_loops:\n",
    "            if loop_list[0].duration != 0 or loop_list[-1].duration != 0:\n",
    "                loop_list[0]\n",
    "                print(name, loop_list[0], loop_list[-1])\n",
    "        total_loops += len(loop_endpoints)\n",
    "    return total_loops, len(pm.instruments), loops"
   ]
  },
  {
   "cell_type": "code",
   "execution_count": 5,
   "metadata": {},
   "outputs": [
    {
     "data": {
      "text/plain": [
       "25050"
      ]
     },
     "execution_count": 5,
     "metadata": {},
     "output_type": "execute_result"
    }
   ],
   "source": [
    "full_directory = \"D:\\\\Documents\\\\GigaMIDI\\\\Final_GigaMIDI_TISMIR\\\\Validatation-10%\\\\GigaMIDI-Val-Drum+Music-MD5\"\n",
    "len(os.listdir(full_directory))"
   ]
  },
  {
   "cell_type": "code",
   "execution_count": 6,
   "metadata": {},
   "outputs": [
    {
     "name": "stderr",
     "output_type": "stream",
     "text": [
      "  0%|          | 0/100 [00:00<?, ?it/s]"
     ]
    },
    {
     "name": "stdout",
     "output_type": "stream",
     "text": [
      "failed to parse D:\\Documents\\GigaMIDI\\Final_GigaMIDI_TISMIR\\Validatation-10%\\GigaMIDI-Val-Drum+Music-MD5\\.DS_Store, skipping\n"
     ]
    },
    {
     "name": "stderr",
     "output_type": "stream",
     "text": [
      " 20%|██        | 20/100 [00:09<00:24,  3.27it/s]d:\\Documents\\GigaMIDI\\midi_loop_detection\\.venv\\lib\\site-packages\\pretty_midi\\pretty_midi.py:100: RuntimeWarning: Tempo, Key or Time signature change events found on non-zero tracks.  This is not a valid type 0 or type 1 MIDI file.  Tempo, Key or Time Signature may be wrong.\n",
      "  warnings.warn(\n",
      "100%|██████████| 100/100 [01:22<00:00,  1.21it/s]"
     ]
    },
    {
     "name": "stdout",
     "output_type": "stream",
     "text": [
      "Found 1441 loops in 929 tracks across 100 files\n"
     ]
    },
    {
     "name": "stderr",
     "output_type": "stream",
     "text": [
      "\n"
     ]
    }
   ],
   "source": [
    "total_loops = 0\n",
    "total_tracks = 0\n",
    "num_files = 100\n",
    "all_loops = []\n",
    "for file in tqdm(os.listdir(full_directory)[:num_files]):\n",
    "    full_path = os.path.join(full_directory, file)\n",
    "    string_path = full_path\n",
    "    num_loops, num_tracks, loops = run_file(full_path, string_path)\n",
    "    total_loops += num_loops\n",
    "    total_tracks += num_tracks\n",
    "    for loop in loops:\n",
    "        if len(loop) > 0:\n",
    "            all_loops.append(loop)\n",
    "print(f\"Found {total_loops} loops in {total_tracks} tracks across {num_files} files\")"
   ]
  }
 ],
 "metadata": {
  "kernelspec": {
   "display_name": ".venv",
   "language": "python",
   "name": "python3"
  },
  "language_info": {
   "codemirror_mode": {
    "name": "ipython",
    "version": 3
   },
   "file_extension": ".py",
   "mimetype": "text/x-python",
   "name": "python",
   "nbconvert_exporter": "python",
   "pygments_lexer": "ipython3",
   "version": "3.10.5"
  }
 },
 "nbformat": 4,
 "nbformat_minor": 2
}
